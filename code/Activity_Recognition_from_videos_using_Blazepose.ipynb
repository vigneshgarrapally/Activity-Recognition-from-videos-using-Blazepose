{
  "nbformat": 4,
  "nbformat_minor": 0,
  "metadata": {
    "colab": {
      "provenance": []
    },
    "kernelspec": {
      "name": "python3",
      "display_name": "Python 3"
    },
    "language_info": {
      "name": "python"
    },
    "accelerator": "GPU"
  },
  "cells": [
    {
      "cell_type": "code",
      "metadata": {
        "id": "yX88Tjer14p-"
      },
      "source": [
        " from google.colab import drive\n",
        "drive.mount('/content/drive')"
      ],
      "execution_count": null,
      "outputs": []
    },
    {
      "cell_type": "code",
      "metadata": {
        "id": "XD9mEJzYTumr"
      },
      "source": [
        "!pip install mediapipe"
      ],
      "execution_count": null,
      "outputs": []
    },
    {
      "cell_type": "code",
      "metadata": {
        "id": "8BYQBTX4vZH0"
      },
      "source": [
        "import os\n",
        "import cv2 as cv\n",
        "import numpy as np\n",
        "import time\n",
        "import datetime\n",
        "import math\n",
        "import random\n",
        "import time\n",
        "import datetime\n",
        "import mediapipe as mp"
      ],
      "execution_count": null,
      "outputs": []
    },
    {
      "cell_type": "code",
      "metadata": {
        "id": "MQ-K6jcJvj7T"
      },
      "source": [
        "#copy asanas videos\n",
        "!cp -r \"/content/drive/Shareddrives/Major project/Major Project/Human Activity Recognition on Yoga Dataset/Yoga dataset(6asanas)\" \"/content\""
      ],
      "execution_count": null,
      "outputs": []
    },
    {
      "cell_type": "code",
      "metadata": {
        "id": "uFcH5Npsax-7"
      },
      "source": [
        "mp_pose = mp.solutions.pose\n",
        "dataset_path=\"/content/Yoga dataset(6asanas)\"\n",
        "asanas=os.listdir(dataset_path)\n",
        "asanas.sort()\n",
        "train=[]\n",
        "#train=np.array(train)\n",
        "test=[]\n",
        "#test=np.array(test)\n",
        "pose=mp_pose.Pose(static_image_mode=False, min_detection_confidence=0.5)\n",
        "for asana in asanas:\n",
        "  videos=os.listdir(os.path.join(dataset_path,asana))\n",
        "  video_paths=[]\n",
        "  for video in videos:\n",
        "    if video.endswith('.mp4'):\n",
        "      video_paths.append(os.path.join(dataset_path,asana,video))\n",
        "  num=len(video_paths)\n",
        "  testno=math.floor(0.20*float(num))\n",
        "  k=random.sample(video_paths,testno)\n",
        "  trainasana=[]\n",
        "  testasana=[]\n",
        "  for video_path in video_paths:\n",
        "    past=time.time()\n",
        "    v=0\n",
        "    currvideo=np.zeros((33*4,))\n",
        "    cam=cv.VideoCapture(video_path)\n",
        "    print(video_path)\n",
        "    z=0\n",
        "    while(True):\n",
        "      ret,frame = cam.read()\n",
        "      #print(ret)\n",
        "      if ret:\n",
        "        if z%2==0:\n",
        "          #print(\"pose estimation done\")\n",
        "          arr=np.zeros((33,4))\n",
        "          results=pose.process(cv.cvtColor(frame, cv.COLOR_BGR2RGB))\n",
        "          if results.pose_landmarks is None:\n",
        "            continue\n",
        "          image_height, image_width, _ = frame.shape\n",
        "          j=0\n",
        "          for i in range(33):\n",
        "            arr[i,j] = results.pose_landmarks.landmark[i].x*image_width\n",
        "          j=1\n",
        "          for i in range(33):\n",
        "            arr[i,j] = results.pose_landmarks.landmark[i].y*image_height\n",
        "          j=2\n",
        "          for i in range(33):\n",
        "            arr[i,j] = results.pose_landmarks.landmark[i].z*image_width\n",
        "          j=3\n",
        "          for i in range(33):\n",
        "            arr[i][j] = results.pose_landmarks.landmark[i].visibility\n",
        "          min_x=min(arr[:,0])\n",
        "          max_x=max(arr[:,0])\n",
        "          min_y=min(arr[:,1])\n",
        "          max_y=max(arr[:,1])\n",
        "          j=0\n",
        "          for i in range(33):\n",
        "            arr[i,j]=(256/(max_x-min_x))*(arr[i][j]-min_x)\n",
        "          j=2\n",
        "          for i in range(33):\n",
        "            arr[i,j]=(256/(max_x-min_x))*(arr[i][j]-min_x)\n",
        "          j=1\n",
        "          for i in range(33):\n",
        "            arr[i,j]=(256/(max_y-min_y))*(arr[i][j]-min_y)\n",
        "          arr=arr.reshape(33*4,)\n",
        "          currvideo=np.vstack((currvideo,arr))\n",
        "          v=v+1\n",
        "          #print(v)\n",
        "        z=z+1\n",
        "      else:\n",
        "        break\n",
        "    cam.release()\n",
        "    if video_path in k:\n",
        "      testasana.append(currvideo[1:,:])\n",
        "    else:\n",
        "      trainasana.append(currvideo)\n",
        "    print(\"video pose estimation done in {0} seconds for {1} frames\".format(datetime.timedelta(time.time()-past),v))\n",
        "  train.append(trainasana)\n",
        "  test.append(testasana)"
      ],
      "execution_count": null,
      "outputs": []
    },
    {
      "cell_type": "code",
      "metadata": {
        "id": "twQ0HpUDSoxP"
      },
      "source": [
        "train=np.load('train.npy',allow_pickle=True)\n",
        "trainXfinal=np.zeros((1,64,132))\n",
        "trainYfinal=np.zeros(1)\n",
        "windowsize=64\n",
        "overlap_size=48  #80% overlap\n",
        "for y_label,asana in enumerate(train):\n",
        "  for vid in asana:\n",
        "    for start in range(0,vid.shape[0]-windowsize, windowsize - overlap_size):\n",
        "      currvid=vid[start:start+windowsize,:]\n",
        "      currvid=currvid.reshape(1,64,132)\n",
        "      assert currvid.shape==(1,64,132) ,\"Something went wrong\"\n",
        "      #print(trainXfinal.shape,currvid.shape)\n",
        "      trainXfinal=np.vstack([trainXfinal,currvid])\n",
        "      trainYfinal=np.vstack([trainYfinal,np.array([y_label])])\n",
        "print(trainXfinal.shape)\n",
        "print(trainYfinal.shape)\n",
        "np.save(\"trainXfinal.npy\",trainXfinal)\n",
        "np.save(\"trainYfinal.npy\",trainYfinal)"
      ],
      "execution_count": null,
      "outputs": []
    },
    {
      "cell_type": "code",
      "metadata": {
        "colab": {
          "base_uri": "https://localhost:8080/"
        },
        "id": "DlDe-cLQjjp3",
        "outputId": "4135c149-80ce-4f15-819f-2c03362c093f"
      },
      "source": [
        "test=np.load('test.npy',allow_pickle=True)\n",
        "testXfinal=np.zeros((1,64,132))\n",
        "testYfinal=np.zeros(1)\n",
        "windowsize=64\n",
        "overlap_size=48  #80% overlap\n",
        "for y_label,asana in enumerate(test):\n",
        "  for vid in asana:\n",
        "    for start in range(0,vid.shape[0]-windowsize, windowsize - overlap_size):\n",
        "      currvid=vid[start:start+windowsize,:]\n",
        "      currvid=currvid.reshape(1,64,132)\n",
        "      assert currvid.shape==(1,64,132) ,\"Something went wrong\"\n",
        "      #print(trainXfinal.shape,currvid.shape)\n",
        "      testXfinal=np.vstack([testXfinal,currvid])\n",
        "      testYfinal=np.vstack([testYfinal,np.array([y_label])])\n",
        "print(testXfinal[1:,].shape)\n",
        "print(testYfinal.shape)\n",
        "np.save(\"testXfinal.npy\",testXfinal)\n",
        "np.save(\"testYfinal.npy\",testYfinal)"
      ],
      "execution_count": null,
      "outputs": [
        {
          "output_type": "stream",
          "text": [
            "(520, 64, 132)\n",
            "(520, 1)\n"
          ],
          "name": "stdout"
        }
      ]
    },
    {
      "cell_type": "code",
      "metadata": {
        "id": "yxDu9Wg3pEzm"
      },
      "source": [
        "np.save(\"trainXFinal.npy\",trainXfinal[1:,])\n",
        "np.save(\"trainYFinal.npy\",trainYfinal[1:,])"
      ],
      "execution_count": null,
      "outputs": []
    },
    {
      "cell_type": "code",
      "metadata": {
        "id": "Rxo_sV4YyDZR"
      },
      "source": [
        "!cp -r \"/content/drive/Shareddrives/Major project/Major Project/Human Activity Recognition on Yoga Dataset/Numpy Arrays\" \"/content\""
      ],
      "execution_count": null,
      "outputs": []
    },
    {
      "cell_type": "code",
      "metadata": {
        "colab": {
          "base_uri": "https://localhost:8080/"
        },
        "id": "iwqluf7s_Du1",
        "outputId": "b6f12e1c-cb58-43ca-e333-c29f2fc06afc"
      },
      "source": [
        "import numpy as np\n",
        "from matplotlib import pyplot\n",
        "from keras.models import Sequential\n",
        "from keras.utils import to_categorical\n",
        "from keras.layers import Dense,Flatten,Dropout,LSTM,TimeDistributed\n",
        "from keras.layers.convolutional import Conv1D, MaxPooling1D\n",
        "from keras.optimizers import Adam\n",
        "from keras.layers import TimeDistributed\n",
        "from keras.callbacks import ModelCheckpoint\n",
        "import os\n",
        "def get_model(num_len,num_features,num_outputs):\n",
        "  model = Sequential()\n",
        "  model.add(TimeDistributed(Conv1D(filters=16, kernel_size=3, kernel_initializer='glorot_uniform',activation='relu'), input_shape=(None,num_len,num_features)))\n",
        "  model.add(TimeDistributed(Conv1D(filters=8, kernel_size=3, activation='relu')))\n",
        "  model.add(TimeDistributed(MaxPooling1D(pool_size=2)))\n",
        "  model.add(TimeDistributed(Flatten()))\n",
        "  model.add(LSTM(100))\n",
        "  model.add(Dropout(0.2))\n",
        "  adam=Adam(lr=0.0001)\n",
        "  model.add(Dense(num_outputs, activation='softmax'))\n",
        "  model.compile(loss='categorical_crossentropy', optimizer=adam, metrics=['acc'])\n",
        "  return model\n",
        "def evaluate_model(trainX, trainy, testX, testy):\n",
        "  num_epochs=100\n",
        "  batch_size = 64\n",
        "  num_ts, num_features, num_outputs = trainX.shape[1], trainX.shape[2], trainy.shape[1]\n",
        "  num_step, num_len = 4, 16\n",
        "  trainX = trainX.reshape((trainX.shape[0], num_step, num_len, num_features))\n",
        "  testX = testX.reshape((testX.shape[0], num_step, num_len, num_features))\n",
        "  model=get_model(num_len,num_features,num_outputs)\n",
        "  filepath= \"weights/\" +\"val1\" + \"-{epoch:02d}-{val_acc:.4f}.hdf5\"\n",
        "  os.makedirs(os.path.dirname(filepath),exist_ok=True)\n",
        "  checkpoint = ModelCheckpoint(filepath,save_weights_only=True,monitor='val_acc',mode='max',save_best_only=True)\n",
        "  callbacks_list = [checkpoint]\n",
        "  history=model.fit(trainX,trainy,validation_data=(testX,testy), epochs=num_epochs, batch_size=batch_size, verbose=2,callbacks=callbacks_list)\n",
        "  return history\n",
        "os.chdir(\"/content/Numpy Arrays\")\n",
        "trainX=np.load(\"trainXFinal.npy\")\n",
        "trainY=np.load(\"trainYFinal.npy\")\n",
        "testX=np.load(\"testXFinal.npy\")\n",
        "testY=np.load(\"testYFinal.npy\")\n",
        "trainY = to_categorical(trainY)\n",
        "testY = to_categorical(testY)\n",
        "print(trainX.shape,trainY.shape,testX.shape,testY.shape)\n",
        "model_history=evaluate_model(trainX, trainY, testX, testY)"
      ],
      "execution_count": null,
      "outputs": [
        {
          "output_type": "stream",
          "text": [
            "(2800, 64, 132) (2800, 6) (519, 64, 132) (519, 6)\n",
            "Epoch 1/100\n",
            "44/44 - 2s - loss: 1.6773 - acc: 0.3375 - val_loss: 1.5413 - val_acc: 0.4374\n",
            "Epoch 2/100\n",
            "44/44 - 0s - loss: 1.4995 - acc: 0.4539 - val_loss: 1.3836 - val_acc: 0.6031\n",
            "Epoch 3/100\n",
            "44/44 - 0s - loss: 1.4125 - acc: 0.5007 - val_loss: 1.3212 - val_acc: 0.6647\n",
            "Epoch 4/100\n",
            "44/44 - 0s - loss: 1.3363 - acc: 0.5375 - val_loss: 1.2273 - val_acc: 0.6724\n",
            "Epoch 5/100\n",
            "44/44 - 0s - loss: 1.2891 - acc: 0.5689 - val_loss: 1.1764 - val_acc: 0.7110\n",
            "Epoch 6/100\n",
            "44/44 - 0s - loss: 1.2567 - acc: 0.6071 - val_loss: 1.1475 - val_acc: 0.7360\n",
            "Epoch 7/100\n",
            "44/44 - 0s - loss: 1.2161 - acc: 0.6246 - val_loss: 1.0984 - val_acc: 0.7996\n",
            "Epoch 8/100\n",
            "44/44 - 0s - loss: 1.1787 - acc: 0.6550 - val_loss: 1.0302 - val_acc: 0.8902\n",
            "Epoch 9/100\n",
            "44/44 - 0s - loss: 1.1108 - acc: 0.7243 - val_loss: 0.9911 - val_acc: 0.8825\n",
            "Epoch 10/100\n",
            "44/44 - 0s - loss: 1.0735 - acc: 0.7375 - val_loss: 0.9304 - val_acc: 0.9094\n",
            "Epoch 11/100\n",
            "44/44 - 0s - loss: 1.0253 - acc: 0.7682 - val_loss: 0.8915 - val_acc: 0.9114\n",
            "Epoch 12/100\n",
            "44/44 - 0s - loss: 0.9928 - acc: 0.7843 - val_loss: 0.8620 - val_acc: 0.9480\n",
            "Epoch 13/100\n",
            "44/44 - 0s - loss: 0.9665 - acc: 0.7914 - val_loss: 0.8293 - val_acc: 0.9326\n",
            "Epoch 14/100\n",
            "44/44 - 0s - loss: 0.9287 - acc: 0.7961 - val_loss: 0.7735 - val_acc: 0.9345\n",
            "Epoch 15/100\n",
            "44/44 - 0s - loss: 0.8917 - acc: 0.8179 - val_loss: 0.7401 - val_acc: 0.9518\n",
            "Epoch 16/100\n",
            "44/44 - 0s - loss: 0.8710 - acc: 0.8221 - val_loss: 0.7068 - val_acc: 0.9538\n",
            "Epoch 17/100\n",
            "44/44 - 0s - loss: 0.8396 - acc: 0.8321 - val_loss: 0.6769 - val_acc: 0.9480\n",
            "Epoch 18/100\n",
            "44/44 - 0s - loss: 0.8144 - acc: 0.8357 - val_loss: 0.6539 - val_acc: 0.9576\n",
            "Epoch 19/100\n",
            "44/44 - 0s - loss: 0.7937 - acc: 0.8532 - val_loss: 0.6387 - val_acc: 0.9615\n",
            "Epoch 20/100\n",
            "44/44 - 0s - loss: 0.7692 - acc: 0.8475 - val_loss: 0.5906 - val_acc: 0.9538\n",
            "Epoch 21/100\n",
            "44/44 - 0s - loss: 0.7372 - acc: 0.8607 - val_loss: 0.5729 - val_acc: 0.9634\n",
            "Epoch 22/100\n",
            "44/44 - 0s - loss: 0.7221 - acc: 0.8636 - val_loss: 0.5465 - val_acc: 0.9615\n",
            "Epoch 23/100\n",
            "44/44 - 0s - loss: 0.7061 - acc: 0.8554 - val_loss: 0.5236 - val_acc: 0.9615\n",
            "Epoch 24/100\n",
            "44/44 - 0s - loss: 0.6761 - acc: 0.8693 - val_loss: 0.5002 - val_acc: 0.9653\n",
            "Epoch 25/100\n",
            "44/44 - 0s - loss: 0.6472 - acc: 0.8821 - val_loss: 0.4730 - val_acc: 0.9615\n",
            "Epoch 26/100\n",
            "44/44 - 0s - loss: 0.6317 - acc: 0.8825 - val_loss: 0.4558 - val_acc: 0.9634\n",
            "Epoch 27/100\n",
            "44/44 - 0s - loss: 0.6138 - acc: 0.8854 - val_loss: 0.4340 - val_acc: 0.9576\n",
            "Epoch 28/100\n",
            "44/44 - 0s - loss: 0.6034 - acc: 0.8786 - val_loss: 0.4148 - val_acc: 0.9653\n",
            "Epoch 29/100\n",
            "44/44 - 0s - loss: 0.5819 - acc: 0.8871 - val_loss: 0.4005 - val_acc: 0.9653\n",
            "Epoch 30/100\n",
            "44/44 - 0s - loss: 0.5705 - acc: 0.8829 - val_loss: 0.3826 - val_acc: 0.9634\n",
            "Epoch 31/100\n",
            "44/44 - 0s - loss: 0.5549 - acc: 0.8861 - val_loss: 0.3712 - val_acc: 0.9634\n",
            "Epoch 32/100\n",
            "44/44 - 0s - loss: 0.5457 - acc: 0.8914 - val_loss: 0.3606 - val_acc: 0.9653\n",
            "Epoch 33/100\n",
            "44/44 - 0s - loss: 0.5344 - acc: 0.8921 - val_loss: 0.3920 - val_acc: 0.9615\n",
            "Epoch 34/100\n",
            "44/44 - 0s - loss: 0.5281 - acc: 0.8875 - val_loss: 0.3368 - val_acc: 0.9634\n",
            "Epoch 35/100\n",
            "44/44 - 0s - loss: 0.5058 - acc: 0.8929 - val_loss: 0.3207 - val_acc: 0.9634\n",
            "Epoch 36/100\n",
            "44/44 - 0s - loss: 0.4909 - acc: 0.8971 - val_loss: 0.3118 - val_acc: 0.9615\n",
            "Epoch 37/100\n",
            "44/44 - 0s - loss: 0.4819 - acc: 0.9007 - val_loss: 0.3016 - val_acc: 0.9634\n",
            "Epoch 38/100\n",
            "44/44 - 0s - loss: 0.4722 - acc: 0.8975 - val_loss: 0.2923 - val_acc: 0.9634\n",
            "Epoch 39/100\n",
            "44/44 - 0s - loss: 0.4611 - acc: 0.9004 - val_loss: 0.2879 - val_acc: 0.9653\n",
            "Epoch 40/100\n",
            "44/44 - 0s - loss: 0.4427 - acc: 0.9061 - val_loss: 0.2665 - val_acc: 0.9634\n",
            "Epoch 41/100\n",
            "44/44 - 0s - loss: 0.4452 - acc: 0.9004 - val_loss: 0.2593 - val_acc: 0.9634\n",
            "Epoch 42/100\n",
            "44/44 - 0s - loss: 0.4310 - acc: 0.9032 - val_loss: 0.2486 - val_acc: 0.9634\n",
            "Epoch 43/100\n",
            "44/44 - 0s - loss: 0.4221 - acc: 0.9043 - val_loss: 0.2446 - val_acc: 0.9653\n",
            "Epoch 44/100\n",
            "44/44 - 0s - loss: 0.4210 - acc: 0.9025 - val_loss: 0.2367 - val_acc: 0.9634\n",
            "Epoch 45/100\n",
            "44/44 - 0s - loss: 0.4126 - acc: 0.9029 - val_loss: 0.2280 - val_acc: 0.9750\n",
            "Epoch 46/100\n",
            "44/44 - 0s - loss: 0.4262 - acc: 0.8993 - val_loss: 0.2271 - val_acc: 0.9634\n",
            "Epoch 47/100\n",
            "44/44 - 0s - loss: 0.3926 - acc: 0.9061 - val_loss: 0.2161 - val_acc: 0.9769\n",
            "Epoch 48/100\n",
            "44/44 - 0s - loss: 0.3907 - acc: 0.9079 - val_loss: 0.2088 - val_acc: 0.9711\n",
            "Epoch 49/100\n",
            "44/44 - 0s - loss: 0.3852 - acc: 0.9168 - val_loss: 0.2082 - val_acc: 0.9769\n",
            "Epoch 50/100\n",
            "44/44 - 0s - loss: 0.3812 - acc: 0.9129 - val_loss: 0.2095 - val_acc: 0.9788\n",
            "Epoch 51/100\n",
            "44/44 - 0s - loss: 0.3769 - acc: 0.9111 - val_loss: 0.2155 - val_acc: 0.9692\n",
            "Epoch 52/100\n",
            "44/44 - 0s - loss: 0.3677 - acc: 0.9157 - val_loss: 0.1967 - val_acc: 0.9769\n",
            "Epoch 53/100\n",
            "44/44 - 0s - loss: 0.3738 - acc: 0.9089 - val_loss: 0.1909 - val_acc: 0.9769\n",
            "Epoch 54/100\n",
            "44/44 - 0s - loss: 0.3567 - acc: 0.9161 - val_loss: 0.1879 - val_acc: 0.9711\n",
            "Epoch 55/100\n",
            "44/44 - 0s - loss: 0.3489 - acc: 0.9179 - val_loss: 0.1836 - val_acc: 0.9769\n",
            "Epoch 56/100\n",
            "44/44 - 0s - loss: 0.3513 - acc: 0.9086 - val_loss: 0.1828 - val_acc: 0.9711\n",
            "Epoch 57/100\n",
            "44/44 - 0s - loss: 0.3491 - acc: 0.9143 - val_loss: 0.1793 - val_acc: 0.9730\n",
            "Epoch 58/100\n",
            "44/44 - 0s - loss: 0.3327 - acc: 0.9236 - val_loss: 0.1684 - val_acc: 0.9827\n",
            "Epoch 59/100\n",
            "44/44 - 0s - loss: 0.3314 - acc: 0.9171 - val_loss: 0.1651 - val_acc: 0.9827\n",
            "Epoch 60/100\n",
            "44/44 - 0s - loss: 0.3244 - acc: 0.9275 - val_loss: 0.1680 - val_acc: 0.9769\n",
            "Epoch 61/100\n",
            "44/44 - 0s - loss: 0.3196 - acc: 0.9229 - val_loss: 0.1590 - val_acc: 0.9846\n",
            "Epoch 62/100\n",
            "44/44 - 0s - loss: 0.3114 - acc: 0.9271 - val_loss: 0.1641 - val_acc: 0.9846\n",
            "Epoch 63/100\n",
            "44/44 - 0s - loss: 0.3162 - acc: 0.9261 - val_loss: 0.1558 - val_acc: 0.9827\n",
            "Epoch 64/100\n",
            "44/44 - 0s - loss: 0.3045 - acc: 0.9268 - val_loss: 0.1440 - val_acc: 0.9827\n",
            "Epoch 65/100\n",
            "44/44 - 0s - loss: 0.2936 - acc: 0.9314 - val_loss: 0.1425 - val_acc: 0.9846\n",
            "Epoch 66/100\n",
            "44/44 - 0s - loss: 0.2969 - acc: 0.9293 - val_loss: 0.1394 - val_acc: 0.9827\n",
            "Epoch 67/100\n",
            "44/44 - 0s - loss: 0.2833 - acc: 0.9368 - val_loss: 0.1451 - val_acc: 0.9807\n",
            "Epoch 68/100\n",
            "44/44 - 0s - loss: 0.2962 - acc: 0.9289 - val_loss: 0.1426 - val_acc: 0.9788\n",
            "Epoch 69/100\n",
            "44/44 - 0s - loss: 0.2904 - acc: 0.9279 - val_loss: 0.1539 - val_acc: 0.9788\n",
            "Epoch 70/100\n",
            "44/44 - 0s - loss: 0.2848 - acc: 0.9275 - val_loss: 0.1428 - val_acc: 0.9807\n",
            "Epoch 71/100\n",
            "44/44 - 0s - loss: 0.2840 - acc: 0.9332 - val_loss: 0.1450 - val_acc: 0.9769\n",
            "Epoch 72/100\n",
            "44/44 - 0s - loss: 0.2825 - acc: 0.9275 - val_loss: 0.1296 - val_acc: 0.9807\n",
            "Epoch 73/100\n",
            "44/44 - 0s - loss: 0.2740 - acc: 0.9296 - val_loss: 0.1300 - val_acc: 0.9827\n",
            "Epoch 74/100\n",
            "44/44 - 0s - loss: 0.2730 - acc: 0.9321 - val_loss: 0.1321 - val_acc: 0.9827\n",
            "Epoch 75/100\n",
            "44/44 - 0s - loss: 0.2764 - acc: 0.9293 - val_loss: 0.1282 - val_acc: 0.9846\n",
            "Epoch 76/100\n",
            "44/44 - 0s - loss: 0.2773 - acc: 0.9329 - val_loss: 0.1217 - val_acc: 0.9846\n",
            "Epoch 77/100\n",
            "44/44 - 0s - loss: 0.2856 - acc: 0.9279 - val_loss: 0.1351 - val_acc: 0.9827\n",
            "Epoch 78/100\n",
            "44/44 - 0s - loss: 0.2641 - acc: 0.9304 - val_loss: 0.1350 - val_acc: 0.9730\n",
            "Epoch 79/100\n",
            "44/44 - 0s - loss: 0.2502 - acc: 0.9361 - val_loss: 0.1243 - val_acc: 0.9788\n",
            "Epoch 80/100\n",
            "44/44 - 0s - loss: 0.2429 - acc: 0.9411 - val_loss: 0.1142 - val_acc: 0.9846\n",
            "Epoch 81/100\n",
            "44/44 - 0s - loss: 0.2479 - acc: 0.9364 - val_loss: 0.1210 - val_acc: 0.9807\n",
            "Epoch 82/100\n",
            "44/44 - 0s - loss: 0.2401 - acc: 0.9364 - val_loss: 0.1200 - val_acc: 0.9769\n",
            "Epoch 83/100\n",
            "44/44 - 0s - loss: 0.2392 - acc: 0.9386 - val_loss: 0.1065 - val_acc: 0.9865\n",
            "Epoch 84/100\n",
            "44/44 - 0s - loss: 0.2339 - acc: 0.9389 - val_loss: 0.1065 - val_acc: 0.9846\n",
            "Epoch 85/100\n",
            "44/44 - 0s - loss: 0.2359 - acc: 0.9404 - val_loss: 0.1201 - val_acc: 0.9827\n",
            "Epoch 86/100\n",
            "44/44 - 0s - loss: 0.2391 - acc: 0.9386 - val_loss: 0.1189 - val_acc: 0.9807\n",
            "Epoch 87/100\n",
            "44/44 - 0s - loss: 0.2390 - acc: 0.9389 - val_loss: 0.1060 - val_acc: 0.9846\n",
            "Epoch 88/100\n",
            "44/44 - 0s - loss: 0.2229 - acc: 0.9429 - val_loss: 0.1141 - val_acc: 0.9788\n",
            "Epoch 89/100\n",
            "44/44 - 0s - loss: 0.2259 - acc: 0.9425 - val_loss: 0.1080 - val_acc: 0.9807\n",
            "Epoch 90/100\n",
            "44/44 - 0s - loss: 0.2163 - acc: 0.9461 - val_loss: 0.1013 - val_acc: 0.9865\n",
            "Epoch 91/100\n",
            "44/44 - 0s - loss: 0.2164 - acc: 0.9461 - val_loss: 0.1059 - val_acc: 0.9807\n",
            "Epoch 92/100\n",
            "44/44 - 0s - loss: 0.2058 - acc: 0.9500 - val_loss: 0.1077 - val_acc: 0.9846\n",
            "Epoch 93/100\n",
            "44/44 - 0s - loss: 0.2082 - acc: 0.9493 - val_loss: 0.0992 - val_acc: 0.9846\n",
            "Epoch 94/100\n",
            "44/44 - 0s - loss: 0.2062 - acc: 0.9482 - val_loss: 0.1120 - val_acc: 0.9788\n",
            "Epoch 95/100\n",
            "44/44 - 0s - loss: 0.2024 - acc: 0.9471 - val_loss: 0.1053 - val_acc: 0.9846\n",
            "Epoch 96/100\n",
            "44/44 - 0s - loss: 0.2131 - acc: 0.9457 - val_loss: 0.1053 - val_acc: 0.9827\n",
            "Epoch 97/100\n",
            "44/44 - 0s - loss: 0.2002 - acc: 0.9525 - val_loss: 0.1053 - val_acc: 0.9807\n",
            "Epoch 98/100\n",
            "44/44 - 0s - loss: 0.2017 - acc: 0.9454 - val_loss: 0.1117 - val_acc: 0.9750\n",
            "Epoch 99/100\n",
            "44/44 - 0s - loss: 0.1931 - acc: 0.9496 - val_loss: 0.1041 - val_acc: 0.9807\n",
            "Epoch 100/100\n",
            "44/44 - 0s - loss: 0.1933 - acc: 0.9529 - val_loss: 0.1066 - val_acc: 0.9807\n"
          ],
          "name": "stdout"
        }
      ]
    },
    {
      "cell_type": "code",
      "metadata": {
        "colab": {
          "base_uri": "https://localhost:8080/",
          "height": 295
        },
        "id": "U21ax_Ywxq2t",
        "outputId": "0dfbebdc-e42f-450f-fdd8-c27ecfccfeb8"
      },
      "source": [
        "#plot accuracy\n",
        "import matplotlib.pyplot as plt\n",
        "plt.plot(model_history.history['acc'])\n",
        "plt.plot(model_history.history['val_acc'])\n",
        "plt.title('Model Accuracy')\n",
        "plt.ylabel('Accuracy')\n",
        "plt.xlabel('Epoch')\n",
        "plt.legend(['Train', 'Validation'], loc='lower right')\n",
        "#plt.show()\n",
        "plt.savefig('accHigh')"
      ],
      "execution_count": null,
      "outputs": [
        {
          "output_type": "display_data",
          "data": {
            "image/png": "[encoded data removed]",
            "text/plain": [
              "<Figure size 432x288 with 1 Axes>"
            ]
          },
          "metadata": {
            "tags": [],
            "needs_background": "light"
          }
        }
      ]
    },
    {
      "cell_type": "code",
      "metadata": {
        "colab": {
          "base_uri": "https://localhost:8080/",
          "height": 295
        },
        "id": "ZHAQx5OjH8sU",
        "outputId": "63afbbaf-57b5-47b1-ef96-b6bfa27165b4"
      },
      "source": [
        "# # Plot loss\n",
        "import matplotlib.pyplot as plt\n",
        "plt.plot(model_history.history['loss'])\n",
        "plt.plot(model_history.history['val_loss'])\n",
        "plt.title('Model Loss')\n",
        "plt.ylabel('Loss')\n",
        "plt.xlabel('Epoch')\n",
        "plt.legend(['Train', 'Validation'], loc='upper right')\n",
        "#plt.show()\n",
        "plt.savefig('lossHigh1.png')"
      ],
      "execution_count": null,
      "outputs": [
        {
          "output_type": "display_data",
          "data": {
            "image/png": "[encoded data removed]",
            "text/plain": [
              "<Figure size 432x288 with 1 Axes>"
            ]
          },
          "metadata": {
            "tags": [],
            "needs_background": "light"
          }
        }
      ]
    },
    {
      "cell_type": "code",
      "metadata": {
        "id": "e5jBgmkiW82p"
      },
      "source": [
        "!cp -r \"/content/Numpy Arrays/weights\"  \"/content/drive/Shareddrives/Major project/Major Project/Human Activity Recognition on Yoga Dataset\""
      ],
      "execution_count": null,
      "outputs": []
    },
    {
      "cell_type": "code",
      "metadata": {
        "id": "vw8Z9Ni5IQiN"
      },
      "source": [
        "#Code for confusion matrix\n",
        "import matplotlib.pyplot as plt\n",
        "from sklearn.metrics import confusion_matrix\n",
        "import itertools\n",
        "def plot_confusion_matrix(cm, classes,normalize=False,title='Confusion matrix',cmap=plt.cm.Blues):\n",
        "    if normalize:\n",
        "        cm = cm.astype('float') / cm.sum(axis=1)[:, np.newaxis]\n",
        "    else:\n",
        "        cm = cm\n",
        "    plt.imshow(cm, interpolation='nearest', cmap=cmap)\n",
        "    plt.title(title)\n",
        "    plt.colorbar()\n",
        "    tick_marks = np.arange(len(classes))\n",
        "    plt.xticks(tick_marks, classes, rotation=45)\n",
        "    plt.yticks(tick_marks, classes)\n",
        "\n",
        "    fmt = '.2f' if normalize else 'd'\n",
        "    thresh = cm.max() / 2.\n",
        "    for i, j in itertools.product(range(cm.shape[0]), range(cm.shape[1])):\n",
        "        plt.text(j, i, format(cm[i, j], fmt),\n",
        "                 horizontalalignment=\"center\",\n",
        "                 color=\"white\" if cm[i, j] > thresh else \"black\")\n",
        "\n",
        "    plt.tight_layout()\n",
        "    plt.ylabel('True label')\n",
        "    plt.xlabel('Predicted label')"
      ],
      "execution_count": null,
      "outputs": []
    },
    {
      "cell_type": "code",
      "metadata": {
        "colab": {
          "base_uri": "https://localhost:8080/",
          "height": 623
        },
        "id": "y6mAFSVsaAD5",
        "outputId": "b9f9a790-80cb-4370-f5fd-473484b81b07"
      },
      "source": [
        "trainX=np.load(\"trainXFinal.npy\")\n",
        "trainY=np.load(\"trainYFinal.npy\")\n",
        "testX=np.load(\"testXFinal.npy\")\n",
        "testY=np.load(\"testYFinal.npy\")\n",
        "trainY = to_categorical(trainY)\n",
        "testY = to_categorical(testY)\n",
        "num_ts, num_features, num_outputs = trainX.shape[1], trainX.shape[2], trainY.shape[1]\n",
        "num_step, num_len = 4, 16\n",
        "model = get_model(num_len,num_features,num_outputs)\n",
        "model.load_weights(\"/content/Numpy Arrays/weights/val1-83-0.9865.hdf5\")\n",
        "testX = testX.reshape((testX.shape[0], num_step, num_len, num_features))\n",
        "print(testX.shape,testY.shape)\n",
        "preds = model.predict(testX)\n",
        "asanas = {0:'bhujangasan', 1:'padamasan', 2:'shavasan', 3:'tadasan', 4:'trikonasan', 5:'vrikshasan'}\n",
        "class_names=[]\n",
        "for k in range(6):\n",
        "  class_names.append(asanas[k])\n",
        "Y_asanas = np.argmax(preds, axis = 1)\n",
        "Y_pred_asanas = np.argmax(testY, axis = 1)\n",
        "cnf_matrix = confusion_matrix(Y_asanas, Y_pred_asanas)\n",
        "plt.figure()\n",
        "plot_confusion_matrix(cnf_matrix, classes=class_names,title='Confusion matrix, without normalization')\n",
        "plt.savefig('confHighFrame')\n",
        "plt.figure()\n",
        "plot_confusion_matrix(cnf_matrix, classes=class_names, normalize=True,title='Normalized confusion matrix')\n",
        "plt.savefig('nconfHighFrame')"
      ],
      "execution_count": null,
      "outputs": [
        {
          "output_type": "stream",
          "text": [
            "(519, 4, 16, 132) (519, 6)\n"
          ],
          "name": "stdout"
        },
        {
          "output_type": "display_data",
          "data": {
            "image/png": "[encoded data removed]",
            "text/plain": [
              "<Figure size 432x288 with 2 Axes>"
            ]
          },
          "metadata": {
            "tags": [],
            "needs_background": "light"
          }
        },
        {
          "output_type": "display_data",
          "data": {
            "image/png": "[encoded data removed]",
            "text/plain": [
              "<Figure size 432x288 with 2 Axes>"
            ]
          },
          "metadata": {
            "tags": [],
            "needs_background": "light"
          }
        }
      ]
    }
  ]
}