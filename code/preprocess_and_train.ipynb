{
  "nbformat": 4,
  "nbformat_minor": 0,
  "metadata": {
    "accelerator": "GPU",
    "colab": {
      "provenance": [],
      "machine_shape": "hm"
    },
    "kernelspec": {
      "display_name": "Python 3",
      "name": "python3"
    },
    "language_info": {
      "name": "python"
    }
  },
  "cells": [
    {
      "cell_type": "code",
      "metadata": {
        "colab": {
          "base_uri": "https://localhost:8080/"
        },
        "id": "ZD5L_ufUthQS",
        "outputId": "43480d4c-d2ae-412d-dc38-f31baf26650c"
      },
      "source": [
        "# from google.colab import drive\n",
        "# drive.mount('/content/drive')\n",
        "# !cp \"/content/drive/Shareddrives/Character Recognition/DataSet/new datasets/archive_2.zip\" \"archive_2.zip\""
      ],
      "execution_count": null,
      "outputs": [
        {
          "name": "stdout",
          "output_type": "stream",
          "text": [
            "Drive already mounted at /content/drive; to attempt to forcibly remount, call drive.mount(\"/content/drive\", force_remount=True).\n"
          ]
        }
      ]
    },
    {
      "cell_type": "code",
      "metadata": {
        "id": "sKobOfC-fZ5O"
      },
      "source": [
        "from google.colab import files\n",
        "uploaded = files.upload()"
      ],
      "execution_count": null,
      "outputs": []
    },
    {
      "cell_type": "code",
      "metadata": {
        "id": "7qucgMH6rt11"
      },
      "source": [
        "!mkdir \"eng_chars/\""
      ],
      "execution_count": null,
      "outputs": []
    },
    {
      "cell_type": "code",
      "metadata": {
        "id": "nMOEpzhvrT4D"
      },
      "source": [
        "!unzip -q /content/archive_2.zip -d \"eng_chars/\""
      ],
      "execution_count": null,
      "outputs": []
    },
    {
      "cell_type": "code",
      "metadata": {
        "id": "sna5b6gtvnJj",
        "colab": {
          "base_uri": "https://localhost:8080/"
        },
        "outputId": "6240f02a-b150-44f2-d388-66bcc74822b9"
      },
      "source": [
        "!pip install -q scikit-image --upgrade"
      ],
      "execution_count": null,
      "outputs": [
        {
          "output_type": "stream",
          "name": "stdout",
          "text": [
            "\u001b[K     |████████████████████████████████| 29.2 MB 68.9 MB/s \n",
            "\u001b[31mERROR: pip's dependency resolver does not currently take into account all the packages that are installed. This behaviour is the source of the following dependency conflicts.\n",
            "albumentations 0.1.12 requires imgaug<0.2.7,>=0.2.5, but you have imgaug 0.2.9 which is incompatible.\u001b[0m\n",
            "\u001b[?25h"
          ]
        }
      ]
    },
    {
      "cell_type": "code",
      "metadata": {
        "id": "UuY6H9eKvY1K"
      },
      "source": [
        "from skimage.io import imread,imsave\n",
        "from skimage.registration import phase_cross_correlation\n",
        "from skimage.transform import warp_polar, rotate,rescale\n",
        "from skimage.util import img_as_float,img_as_ubyte\n",
        "import numpy as np\n",
        "from tensorflow.data import AUTOTUNE\n",
        "import os\n",
        "import pandas as pd\n",
        "import cv2\n",
        "import tensorflow as tf\n",
        "from sklearn.model_selection import train_test_split\n",
        "import scipy as sp\n",
        "import imutils"
      ],
      "execution_count": null,
      "outputs": []
    },
    {
      "cell_type": "code",
      "metadata": {
        "id": "Guzwn0RZM5BH"
      },
      "source": [
        "df=pd.read_csv(\"/content/eng_chars/english.csv\")\n",
        "train, test = train_test_split(df, test_size=0.2, random_state=0, stratify=df[['label']])\n",
        "train, val = train_test_split(train, test_size=0.1, random_state=0, stratify=train[['label']])"
      ],
      "execution_count": null,
      "outputs": []
    },
    {
      "cell_type": "code",
      "metadata": {
        "colab": {
          "base_uri": "https://localhost:8080/"
        },
        "id": "aMkHdpjxwxQL",
        "outputId": "27984031-d4d1-4392-c790-88dd3a3e53a5"
      },
      "source": [
        "train.reset_index(drop=True,inplace=True)\n",
        "test.reset_index(drop=True,inplace=True)\n",
        "val.reset_index(drop=True,inplace=True)\n",
        "len(train)+len(test)+len(val)==len(df)"
      ],
      "execution_count": null,
      "outputs": [
        {
          "output_type": "execute_result",
          "data": {
            "text/plain": [
              "True"
            ]
          },
          "metadata": {},
          "execution_count": 6
        }
      ]
    },
    {
      "cell_type": "code",
      "metadata": {
        "id": "HCNGcjBN4Q9o"
      },
      "source": [
        "def get_feature_vector(x,downscale=5):\n",
        "  try:\n",
        "    base_path=\"/content/eng_chars\"\n",
        "    img_path=os.path.join(base_path,x)\n",
        "    gray=imread(img_path,as_gray=True)\n",
        "    w, h = np.array(gray.shape)[:2] / 2\n",
        "    radius = np.sqrt(w ** 2 + h ** 2)\n",
        "    polar=img_as_ubyte(warp_polar(gray, radius=radius,scaling='log'))\n",
        "    polar=imutils.resize(polar,width=polar.shape[1]//downscale)\n",
        "    th, threshold = cv2.threshold(polar, 50, 255, cv2.THRESH_BINARY_INV | cv2.THRESH_OTSU)\n",
        "    cnts, hiers = cv2.findContours(threshold, cv2.RETR_EXTERNAL, cv2.CHAIN_APPROX_NONE)[-2:]\n",
        "    #sort contours and fit ellipse to biggest contours assuming biggest is our required\n",
        "    cnt=max(cnts,key=lambda p: len(p))\n",
        "    ellipse = cv2.fitEllipse(cnt)\n",
        "    mask=np.zeros(polar.shape,dtype='uint8')\n",
        "    mask=cv2.ellipse(mask,ellipse,255,-1)\n",
        "    masked = cv2.bitwise_and(threshold, threshold, mask=mask)\n",
        "    data=np.argwhere(masked==255)\n",
        "    mean=np.mean(data)\n",
        "    cov = np.cov(data.T)\n",
        "    inv_covmat = sp.linalg.inv(cov)\n",
        "    fv=list()\n",
        "    for i in data:\n",
        "      x_minus_mu = i - mean\n",
        "      left_term = np.dot(x_minus_mu, inv_covmat)\n",
        "      mahal = np.dot(left_term, x_minus_mu.T)\n",
        "      fv.append(mahal)\n",
        "    return np.array(fv)\n",
        "  except:\n",
        "    print(x)\n",
        "    return None"
      ],
      "execution_count": null,
      "outputs": []
    },
    {
      "cell_type": "code",
      "metadata": {
        "colab": {
          "base_uri": "https://localhost:8080/"
        },
        "id": "LHbLs90110xn",
        "outputId": "2c4e57ba-5ca6-42de-87e1-036a68d43042"
      },
      "source": [
        "train['feature_vector']=train['image'].apply(lambda x:get_feature_vector(x))\n",
        "train.to_csv(\"train.csv\")"
      ],
      "execution_count": null,
      "outputs": [
        {
          "output_type": "stream",
          "name": "stderr",
          "text": [
            "/usr/local/lib/python3.7/dist-packages/numpy/core/fromnumeric.py:3373: RuntimeWarning: Mean of empty slice.\n",
            "  out=out, **kwargs)\n",
            "/usr/local/lib/python3.7/dist-packages/numpy/lib/function_base.py:380: RuntimeWarning: Mean of empty slice.\n",
            "  avg = a.mean(axis)\n",
            "/usr/local/lib/python3.7/dist-packages/ipykernel_launcher.py:20: RuntimeWarning: Degrees of freedom <= 0 for slice\n"
          ]
        },
        {
          "output_type": "stream",
          "name": "stdout",
          "text": [
            "Img/img025-006.png\n",
            "Img/img017-025.png\n"
          ]
        }
      ]
    },
    {
      "cell_type": "code",
      "metadata": {
        "colab": {
          "base_uri": "https://localhost:8080/"
        },
        "id": "WilZWLTsD9fa",
        "outputId": "d8cc0ada-65b7-44b9-8a9c-6dfaf4ced50f"
      },
      "source": [
        "test['feature_vector']=test['image'].apply(lambda x:get_feature_vector(x))\n",
        "test.to_csv(\"test.csv\")"
      ],
      "execution_count": null,
      "outputs": [
        {
          "output_type": "stream",
          "name": "stderr",
          "text": [
            "/usr/local/lib/python3.7/dist-packages/ipykernel_launcher.py:1: SettingWithCopyWarning: \n",
            "A value is trying to be set on a copy of a slice from a DataFrame.\n",
            "Try using .loc[row_indexer,col_indexer] = value instead\n",
            "\n",
            "See the caveats in the documentation: https://pandas.pydata.org/pandas-docs/stable/user_guide/indexing.html#returning-a-view-versus-a-copy\n",
            "  \"\"\"Entry point for launching an IPython kernel.\n"
          ]
        }
      ]
    },
    {
      "cell_type": "code",
      "metadata": {
        "id": "ZVYVZGnZEk7z"
      },
      "source": [
        "val['feature_vector']=val['image'].apply(lambda x:get_feature_vector(x))\n",
        "val.to_csv(\"val.csv\")"
      ],
      "execution_count": null,
      "outputs": []
    },
    {
      "cell_type": "code",
      "metadata": {
        "id": "P6jf0DtbGgk4"
      },
      "source": [
        "train_final=train.dropna()\n",
        "train_final.to_csv(\"train_final.csv\")"
      ],
      "execution_count": null,
      "outputs": []
    },
    {
      "cell_type": "code",
      "metadata": {
        "colab": {
          "base_uri": "https://localhost:8080/"
        },
        "id": "9eEhgFviMGSl",
        "outputId": "b778cafc-bd71-4122-c71c-03d64a92a919"
      },
      "source": [
        "num_classes=df['label'].nunique()\n",
        "print(num_classes)"
      ],
      "execution_count": null,
      "outputs": [
        {
          "output_type": "stream",
          "name": "stdout",
          "text": [
            "62\n"
          ]
        }
      ]
    },
    {
      "cell_type": "code",
      "metadata": {
        "colab": {
          "base_uri": "https://localhost:8080/"
        },
        "id": "qOKzceH2yZQx",
        "outputId": "c2a0f950-775a-4ea6-f183-66defca31abe"
      },
      "source": [
        "trainX=train_final['feature_vector'].values\n",
        "padded_inputs=tf.keras.preprocessing.sequence.pad_sequences(trainX,padding='post')\n",
        "padded_inputs=padded_inputs.astype('int')\n",
        "trainX=np.expand_dims(padded_inputs,axis=-1)\n",
        "print(trainX.shape)"
      ],
      "execution_count": null,
      "outputs": [
        {
          "output_type": "stream",
          "name": "stdout",
          "text": [
            "(2453, 7530, 1)\n"
          ]
        }
      ]
    },
    {
      "cell_type": "code",
      "metadata": {
        "colab": {
          "base_uri": "https://localhost:8080/"
        },
        "id": "Grby9VALzj6r",
        "outputId": "dc31b883-3a76-422f-ea29-d83c8ebcab0b"
      },
      "source": [
        "from sklearn.preprocessing import LabelEncoder\n",
        "from sklearn.preprocessing import OneHotEncoder\n",
        "label_encoder = LabelEncoder()\n",
        "trainY=train_final['label'].values\n",
        "print(trainY.shape)\n",
        "integer_encoded = label_encoder.fit_transform(trainY)\n",
        "onehot_encoder = OneHotEncoder(sparse=False)\n",
        "integer_encoded = integer_encoded.reshape(len(integer_encoded), 1)\n",
        "onehot_encoded = onehot_encoder.fit_transform(integer_encoded)\n",
        "print(onehot_encoded.shape)\n",
        "trainY=onehot_encoded"
      ],
      "execution_count": null,
      "outputs": [
        {
          "output_type": "stream",
          "name": "stdout",
          "text": [
            "(2453,)\n",
            "(2453, 62)\n"
          ]
        }
      ]
    },
    {
      "cell_type": "code",
      "metadata": {
        "colab": {
          "base_uri": "https://localhost:8080/"
        },
        "id": "F_ja1N1Kw1Wt",
        "outputId": "197875b7-8b5c-4ea3-a7c3-8d3b8acb2a6c"
      },
      "source": [
        "testX=test['feature_vector'].values\n",
        "padded_inputs=tf.keras.preprocessing.sequence.pad_sequences(testX,padding='post')\n",
        "padded_inputs=padded_inputs.astype('int')\n",
        "testX=np.expand_dims(padded_inputs,axis=-1)\n",
        "print(testX.shape)\n",
        "label_encoder = LabelEncoder()\n",
        "testY=test['label'].values\n",
        "print(testY.shape)\n",
        "integer_encoded = label_encoder.fit_transform(testY)\n",
        "onehot_encoder = OneHotEncoder(sparse=False)\n",
        "integer_encoded = integer_encoded.reshape(len(integer_encoded), 1)\n",
        "onehot_encoded = onehot_encoder.fit_transform(integer_encoded)\n",
        "print(onehot_encoded.shape)\n",
        "testY=onehot_encoded"
      ],
      "execution_count": null,
      "outputs": [
        {
          "output_type": "stream",
          "name": "stdout",
          "text": [
            "(682, 7347, 1)\n",
            "(682,)\n",
            "(682, 62)\n"
          ]
        }
      ]
    },
    {
      "cell_type": "code",
      "metadata": {
        "colab": {
          "base_uri": "https://localhost:8080/"
        },
        "id": "cadqrMl1xQMX",
        "outputId": "14975f97-b647-4bbb-e6af-8c53ce00c9a8"
      },
      "source": [
        "valX=val['feature_vector'].values\n",
        "padded_inputs=tf.keras.preprocessing.sequence.pad_sequences(valX,padding='post')\n",
        "padded_inputs=padded_inputs.astype('int')\n",
        "valX=np.expand_dims(padded_inputs,axis=-1)\n",
        "print(valX.shape)\n",
        "label_encoder = LabelEncoder()\n",
        "valY=val['label'].values\n",
        "print(valY.shape)\n",
        "integer_encoded = label_encoder.fit_transform(valY)\n",
        "onehot_encoder = OneHotEncoder(sparse=False)\n",
        "integer_encoded = integer_encoded.reshape(len(integer_encoded), 1)\n",
        "onehot_encoded = onehot_encoder.fit_transform(integer_encoded)\n",
        "print(onehot_encoded.shape)\n",
        "valY=onehot_encoded"
      ],
      "execution_count": null,
      "outputs": [
        {
          "output_type": "stream",
          "name": "stdout",
          "text": [
            "(273, 7410, 1)\n",
            "(273,)\n",
            "(273, 62)\n"
          ]
        }
      ]
    },
    {
      "cell_type": "code",
      "metadata": {
        "id": "fTprkLzzJw0t"
      },
      "source": [
        "from tensorflow.keras.models import Sequential\n",
        "from tensorflow.keras.layers import Dense,Dropout,LSTM,Embedding\n",
        "from tensorflow.keras.optimizers import Adam\n",
        "from keras import Input\n",
        "def get_model(num_classes):\n",
        "  model = Sequential()\n",
        "  model.add(Embedding(input_dim=1000, output_dim=512, mask_zero=True))\n",
        "  #model.add(LSTM(512,return_sequences=True,input_shape=(None,1)))\n",
        "  model.add(LSTM(100))\n",
        "  model.add(Dropout(0.2))\n",
        "  #model.add(Dense(128))\n",
        "  model.add(Dense(num_classes, activation='softmax'))\n",
        "  adam=Adam(learning_rate=0.001)\n",
        "  model.compile(loss='categorical_crossentropy', optimizer=adam, metrics=['accuracy'])\n",
        "  return model"
      ],
      "execution_count": null,
      "outputs": []
    },
    {
      "cell_type": "code",
      "metadata": {
        "id": "XpVYsDmwUTgj"
      },
      "source": [
        "def create_callbacks():\n",
        "    cpk_path = f'./models/best_model.h5'\n",
        "    checkpoint = tf.keras.callbacks.ModelCheckpoint(\n",
        "        filepath=cpk_path,\n",
        "        monitor= 'val_accuracy',\n",
        "        mode='max',\n",
        "        save_best_only=True,\n",
        "        verbose=1,\n",
        "    )\n",
        "    reducelr = tf.keras.callbacks.ReduceLROnPlateau(\n",
        "        monitor= 'val_accuracy',\n",
        "        mode='max',\n",
        "        factor=0.1,\n",
        "        patience=3,\n",
        "        verbose=1\n",
        "    )\n",
        "    earlystop = tf.keras.callbacks.EarlyStopping(\n",
        "        monitor= 'val_accuracy',\n",
        "        mode='max',\n",
        "        patience=10,\n",
        "        verbose=1\n",
        "    )\n",
        "    callbacks = [checkpoint, reducelr, earlystop]\n",
        "    return callbacks"
      ],
      "execution_count": null,
      "outputs": []
    },
    {
      "cell_type": "code",
      "metadata": {
        "id": "sYYTsu7d2HcR"
      },
      "source": [
        "tf.keras.backend.clear_session()\n",
        "with tf.device('/device:GPU:0'):\n",
        "  callbacks=create_callbacks()\n",
        "  model=get_model(num_classes)\n",
        "  history=model.fit(trainX,trainY,epochs=200,batch_size=16,callbacks=callbacks,validation_data=(valX,valY),verbose=1)"
      ],
      "execution_count": null,
      "outputs": []
    },
    {
      "cell_type": "code",
      "metadata": {
        "id": "V71u4OeCyG-e"
      },
      "source": [
        "import matplotlib.pyplot as plt\n",
        "plt.style.use(\"ggplot\")\n",
        "plt.figure()\n",
        "plt.plot(history.history[\"loss\"], label=\"train_loss\")\n",
        "plt.plot(history.history[\"val_loss\"], label=\"val_loss\")\n",
        "plt.plot(history.history[\"accuracy\"], label=\"train_accuracy\")\n",
        "plt.plot(history.history[\"val_accuracy\"], label=\"val_accuracy\")\n",
        "plt.plot(history.history[\"lr\"], label=\"Learning rate\")\n",
        "plt.title(\"Training Loss\")\n",
        "plt.xlabel(\"Epoch #\")\n",
        "plt.ylabel(\"Loss\")\n",
        "plt.legend(loc=\"best\")\n",
        "plt.savefig(\"plots.png\",dpi=300)"
      ],
      "execution_count": null,
      "outputs": []
    },
    {
      "cell_type": "code",
      "metadata": {
        "colab": {
          "base_uri": "https://localhost:8080/"
        },
        "id": "nyYbXvqkyAhF",
        "outputId": "0f240dd5-ba64-428a-9156-535a7e8246e6"
      },
      "source": [
        "results=model.evaluate(x=testX,y=testY)"
      ],
      "execution_count": null,
      "outputs": [
        {
          "output_type": "stream",
          "name": "stdout",
          "text": [
            "22/22 [==============================] - 22s 937ms/step - loss: 4.0302 - accuracy: 0.0381\n"
          ]
        },
        {
          "output_type": "execute_result",
          "data": {
            "text/plain": [
              "[4.03017520904541, 0.03812316805124283]"
            ]
          },
          "metadata": {},
          "execution_count": 26
        }
      ]
    },
    {
      "cell_type": "code",
      "metadata": {
        "id": "Heo2CavZygWM"
      },
      "source": [],
      "execution_count": null,
      "outputs": []
    }
  ]
}